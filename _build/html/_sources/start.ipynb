{
 "cells": [
  {
   "cell_type": "markdown",
   "id": "5cf3600b",
   "metadata": {},
   "source": [
    "## 1. Table of Contents\n",
    "\n",
    "We will experience GAMESS!\n",
    "\n",
    "[Getting Started](1_Setup)"
   ]
  }
 ],
 "metadata": {
  "kernelspec": {
   "display_name": "Python 3 (ipykernel)",
   "language": "python",
   "name": "python3"
  },
  "language_info": {
   "codemirror_mode": {
    "name": "ipython",
    "version": 3
   },
   "file_extension": ".py",
   "mimetype": "text/x-python",
   "name": "python",
   "nbconvert_exporter": "python",
   "pygments_lexer": "ipython3",
   "version": "3.9.7"
  }
 },
 "nbformat": 4,
 "nbformat_minor": 5
}
