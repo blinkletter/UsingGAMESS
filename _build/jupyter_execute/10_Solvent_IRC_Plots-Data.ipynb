{
 "cells": [
  {
   "cell_type": "markdown",
   "id": "878a8775",
   "metadata": {},
   "source": [
    "# Data Cleaning Workflow\n",
    "\n",
    "As discussed in the [previous workbook](10_Solvent_IRC_Plots.ipynb), we now have **two data files** with the gas phase and solvent IRC calculation data.\n",
    "\n",
    "| Files    |  Description    |\n",
    "|  :---------------------------    | :-------------------------  |\n",
    "| SN2_IRC_Solvent_Data.txt       | The solvent phase (Water PCM model) IRC calculation\n",
    "| SN2_IRC_Data_GasPhase_Data.txt       | The gas phase calculation\n",
    "\n",
    "We can now make some **comparisons**.\n"
   ]
  },
  {
   "cell_type": "markdown",
   "id": "3ef0e215",
   "metadata": {},
   "source": [
    "## Load Your Tools\n",
    "Load in the modules needed for this exercise."
   ]
  },
  {
   "cell_type": "code",
   "execution_count": 1,
   "id": "47bd1bf0",
   "metadata": {},
   "outputs": [],
   "source": [
    "import pandas as pd\n",
    "import numpy as np\n",
    "import matplotlib.pyplot as plt"
   ]
  },
  {
   "cell_type": "markdown",
   "id": "8535ce2b",
   "metadata": {},
   "source": [
    "## Importing Stored Data\n",
    "No need to use the raw data and process the files.  We have **stored** that work as text files and **documented** the process that we used to clean and process the data. Now we can load them in and use them."
   ]
  },
  {
   "cell_type": "code",
   "execution_count": 2,
   "id": "99775ca4",
   "metadata": {},
   "outputs": [
    {
     "name": "stdout",
     "output_type": "stream",
     "text": [
      "Solvent IRC Data\n"
     ]
    },
    {
     "data": {
      "text/html": [
       "<div>\n",
       "<style scoped>\n",
       "    .dataframe tbody tr th:only-of-type {\n",
       "        vertical-align: middle;\n",
       "    }\n",
       "\n",
       "    .dataframe tbody tr th {\n",
       "        vertical-align: top;\n",
       "    }\n",
       "\n",
       "    .dataframe thead th {\n",
       "        text-align: right;\n",
       "    }\n",
       "</style>\n",
       "<table border=\"1\" class=\"dataframe\">\n",
       "  <thead>\n",
       "    <tr style=\"text-align: right;\">\n",
       "      <th></th>\n",
       "      <th>stride</th>\n",
       "      <th>energy</th>\n",
       "      <th>E(kJ/mole)</th>\n",
       "      <th>C-Cl1</th>\n",
       "      <th>C-Cl2</th>\n",
       "    </tr>\n",
       "  </thead>\n",
       "  <tbody>\n",
       "    <tr>\n",
       "      <th>0</th>\n",
       "      <td>-4.85695</td>\n",
       "      <td>-955.705800</td>\n",
       "      <td>-23.172149</td>\n",
       "      <td>1.958707</td>\n",
       "      <td>3.107504</td>\n",
       "    </tr>\n",
       "    <tr>\n",
       "      <th>1</th>\n",
       "      <td>-4.83761</td>\n",
       "      <td>-955.705800</td>\n",
       "      <td>-23.171362</td>\n",
       "      <td>1.958823</td>\n",
       "      <td>3.105239</td>\n",
       "    </tr>\n",
       "    <tr>\n",
       "      <th>2</th>\n",
       "      <td>-4.81292</td>\n",
       "      <td>-955.705799</td>\n",
       "      <td>-23.170049</td>\n",
       "      <td>1.958993</td>\n",
       "      <td>3.102160</td>\n",
       "    </tr>\n",
       "    <tr>\n",
       "      <th>3</th>\n",
       "      <td>-4.76930</td>\n",
       "      <td>-955.705798</td>\n",
       "      <td>-23.166373</td>\n",
       "      <td>1.959371</td>\n",
       "      <td>3.096809</td>\n",
       "    </tr>\n",
       "    <tr>\n",
       "      <th>4</th>\n",
       "      <td>-4.69106</td>\n",
       "      <td>-955.705794</td>\n",
       "      <td>-23.155871</td>\n",
       "      <td>1.959962</td>\n",
       "      <td>3.087264</td>\n",
       "    </tr>\n",
       "  </tbody>\n",
       "</table>\n",
       "</div>"
      ],
      "text/plain": [
       "    stride      energy  E(kJ/mole)     C-Cl1     C-Cl2\n",
       "0 -4.85695 -955.705800  -23.172149  1.958707  3.107504\n",
       "1 -4.83761 -955.705800  -23.171362  1.958823  3.105239\n",
       "2 -4.81292 -955.705799  -23.170049  1.958993  3.102160\n",
       "3 -4.76930 -955.705798  -23.166373  1.959371  3.096809\n",
       "4 -4.69106 -955.705794  -23.155871  1.959962  3.087264"
      ]
     },
     "metadata": {},
     "output_type": "display_data"
    },
    {
     "name": "stdout",
     "output_type": "stream",
     "text": [
      "\n",
      "gas Phase IRC Data\n"
     ]
    },
    {
     "data": {
      "text/html": [
       "<div>\n",
       "<style scoped>\n",
       "    .dataframe tbody tr th:only-of-type {\n",
       "        vertical-align: middle;\n",
       "    }\n",
       "\n",
       "    .dataframe tbody tr th {\n",
       "        vertical-align: top;\n",
       "    }\n",
       "\n",
       "    .dataframe thead th {\n",
       "        text-align: right;\n",
       "    }\n",
       "</style>\n",
       "<table border=\"1\" class=\"dataframe\">\n",
       "  <thead>\n",
       "    <tr style=\"text-align: right;\">\n",
       "      <th></th>\n",
       "      <th>stride</th>\n",
       "      <th>energy</th>\n",
       "      <th>E(kJ/mole)</th>\n",
       "      <th>C-Cl1</th>\n",
       "      <th>C-Cl2</th>\n",
       "    </tr>\n",
       "  </thead>\n",
       "  <tbody>\n",
       "    <tr>\n",
       "      <th>0</th>\n",
       "      <td>-4.85695</td>\n",
       "      <td>-955.705800</td>\n",
       "      <td>-23.172149</td>\n",
       "      <td>1.958707</td>\n",
       "      <td>3.107504</td>\n",
       "    </tr>\n",
       "    <tr>\n",
       "      <th>1</th>\n",
       "      <td>-4.83761</td>\n",
       "      <td>-955.705800</td>\n",
       "      <td>-23.171362</td>\n",
       "      <td>1.958823</td>\n",
       "      <td>3.105239</td>\n",
       "    </tr>\n",
       "    <tr>\n",
       "      <th>2</th>\n",
       "      <td>-4.81292</td>\n",
       "      <td>-955.705799</td>\n",
       "      <td>-23.170049</td>\n",
       "      <td>1.958993</td>\n",
       "      <td>3.102160</td>\n",
       "    </tr>\n",
       "    <tr>\n",
       "      <th>3</th>\n",
       "      <td>-4.76930</td>\n",
       "      <td>-955.705798</td>\n",
       "      <td>-23.166373</td>\n",
       "      <td>1.959371</td>\n",
       "      <td>3.096809</td>\n",
       "    </tr>\n",
       "    <tr>\n",
       "      <th>4</th>\n",
       "      <td>-4.69106</td>\n",
       "      <td>-955.705794</td>\n",
       "      <td>-23.155871</td>\n",
       "      <td>1.959962</td>\n",
       "      <td>3.087264</td>\n",
       "    </tr>\n",
       "  </tbody>\n",
       "</table>\n",
       "</div>"
      ],
      "text/plain": [
       "    stride      energy  E(kJ/mole)     C-Cl1     C-Cl2\n",
       "0 -4.85695 -955.705800  -23.172149  1.958707  3.107504\n",
       "1 -4.83761 -955.705800  -23.171362  1.958823  3.105239\n",
       "2 -4.81292 -955.705799  -23.170049  1.958993  3.102160\n",
       "3 -4.76930 -955.705798  -23.166373  1.959371  3.096809\n",
       "4 -4.69106 -955.705794  -23.155871  1.959962  3.087264"
      ]
     },
     "metadata": {},
     "output_type": "display_data"
    }
   ],
   "source": [
    "path = \"/Users/Barry/Documents/CompChem/Exercises/temp/\"\n",
    "\n",
    "solvent_file = path + \"SN2_IRC_Solvent_Data.txt\"\n",
    "gas_phase_file = path + \"SN2_IRC_Data_GasPhase_Data.txt\"\n",
    "\n",
    "solvent = pd.read_csv(solvent_file, index_col=0)\n",
    "gasphase = pd.read_csv(gas_phase_file, index_col=0)\n",
    "\n",
    "print(\"Solvent IRC Data\")\n",
    "display(solvent.head())\n",
    "print(\"\\ngas Phase IRC Data\")    # the '\\n' is a 'new line' character\n",
    "display(gasphase.head())"
   ]
  },
  {
   "cell_type": "markdown",
   "id": "8adaae5e",
   "metadata": {},
   "source": [
    "## Plots\n",
    "First we must **decide** what to plot. The stride value should be similar for each since it is the same bonds in both cases that are changing (stride is a composite value that encompases the totality of bond changes). How do the energies **compare** in gas phase vs. water as bonds break and form across the transition state? Let us plot the **relative energy** vs. **stride**."
   ]
  },
  {
   "cell_type": "code",
   "execution_count": 3,
   "id": "57e2bbc6",
   "metadata": {},
   "outputs": [
    {
     "data": {
      "image/png": "[encoded data removed]",
      "text/plain": [
       "<Figure size 480x400 with 1 Axes>"
      ]
     },
     "metadata": {
      "filenames": {
       "image/png": "/Users/Barry/Documents/GitHub/UsingGAMESS/_build/jupyter_execute/10_Solvent_IRC_Plots-Data_6_0.png"
      }
     },
     "output_type": "display_data"
    }
   ],
   "source": [
    "plt.style.use(\"S2_classic2.mplstyle\")        \n",
    "fig, ax = plt.subplots(nrows=1, ncols=1, figsize=(6,5))  \n",
    "\n",
    "\n",
    "x = solvent[:][\"stride\"]           # stride value\n",
    "y = solvent[:][\"E(kJ/mole)\"]       # relative energy\n",
    "plt.plot(x,y, \"k-\")\n",
    "\n",
    "x = gasphase[:][\"stride\"]           # stride value\n",
    "y = gasphase[:][\"E(kJ/mole)\"]       # relative energy\n",
    "plt.plot(x,y, \"r-\")\n",
    "\n",
    "ax.set(title=\"Intrinsic Reaction Coordinate\",       \n",
    "          ylabel=r\"Energy $\\left(\\frac{kJ}{mole}\\right)$\", \n",
    "          xlabel=r\"Stride $\\left(Bohr \\cdot \\sqrt{AMU}\\right)$\",                \n",
    "          xlim=[-4,4.0],                  \n",
    "          ylim=[-25,5])\n",
    "\n",
    "#fig.savefig(\"plot1.pdf\")\n",
    "plt.show()"
   ]
  },
  {
   "cell_type": "markdown",
   "id": "71bfed0f",
   "metadata": {},
   "source": [
    "In the gas phase, the **relative energy** between the ground state and the transition stste is **much smaller**. This is because the **negatively charged** chloride nucleophile/leaving group is very **high in energy** in a **vacuum** where it cannot share its electrons. In the **solvent** model, the energy is less as chloride can be stabilized by the **electric dipole** of water. In fact the gas phase IRC ends early because the **energy** is actually about to start **going back up** as the nucleophile moves away. In a vacumm, chloride separated widely from the methyl chloride is actually **higher in energy** than the transition state."
   ]
  },
  {
   "cell_type": "markdown",
   "id": "b08c5a1e",
   "metadata": {},
   "source": [
    "## Changing Bond Lengths\n",
    "\n",
    "There are **two** C-Cl distances in each IRC: the **incoming** nucleophile and the departing leaving group. The C-Cl bond in methyl chlorife is calculated to be about 1.95&nbsp;&angst;. The incoming nucleophile starts at a longer distance and **moves** in. The leaving group bond will lengthen. At the transition state, they should be identical (defined by symmetry). Let us plot **one** length against the **other**. Will it be a straight line? Will it be a curve?"
   ]
  },
  {
   "cell_type": "code",
   "execution_count": 4,
   "id": "af94a68e",
   "metadata": {},
   "outputs": [
    {
     "data": {
      "image/png": "[encoded data removed]",
      "text/plain": [
       "<Figure size 480x400 with 1 Axes>"
      ]
     },
     "metadata": {
      "filenames": {
       "image/png": "/Users/Barry/Documents/GitHub/UsingGAMESS/_build/jupyter_execute/10_Solvent_IRC_Plots-Data_9_0.png"
      }
     },
     "output_type": "display_data"
    }
   ],
   "source": [
    "plt.style.use(\"S2_classic2.mplstyle\")        \n",
    "fig, ax = plt.subplots(nrows=1, ncols=1, figsize=(6,5))  \n",
    "\n",
    "\n",
    "x = solvent[:][\"C-Cl1\"]           # stride value\n",
    "y = solvent[:][\"C-Cl2\"]       # relative energy\n",
    "plt.plot(x,y, \"k-\")\n",
    "\n",
    "x = gasphase[:][\"C-Cl1\"]           # stride value\n",
    "y = gasphase[:][\"C-Cl2\"]       # relative energy\n",
    "plt.plot(x,y, \"r-\")\n",
    "\n",
    "ax.set(title=\"Intrinsic Reaction Coordinate\",       \n",
    "          ylabel=r\"1,3 C–Cl Bond Length $\\left(\\AA\\right)$\", \n",
    "          xlabel=r\"2,3 C–Cl Bond Length $\\left(\\AA\\right)$\",                \n",
    "          xlim=[1.8,3.3],                  \n",
    "          ylim=[1.8,3.3])\n",
    "\n",
    "#fig.savefig(\"plot2.pdf\")\n",
    "plt.show()"
   ]
  },
  {
   "cell_type": "markdown",
   "id": "c5e90d42",
   "metadata": {},
   "source": [
    "The black line is the **solvent** IRC. What would you call that? I vote for \"double ended hockey stick\". It is clear that, at the beginning, **most** of the stride score is due to the nucleophile **moving in** towards the carbon. When it has moved in from 3.1&nbsp;&angst; to about 2.85&nbsp;&angst; we finally see the leaving group **start to move** in concert. Would you say that the reaction \"begins\" when the nucleophile **reaches** 2.85&nbsp;&angst;? Does it end when the leaving group reaches that distance on the **other side**? Or should be include the translation of the nucleophile in from 3.1&nbsp;&angst; (or even farther)?\n",
    "\n",
    "The **gas phase** IRC is shorter because of the high cost of moving the chloride away in a vacuum. The key takeaway here is that solvent modeling has a **very large effect** in charged systems and probably a significant effect in every system.\n",
    "\n",
    "Should we **redo everything** that we did up until now by adding a $PCM group to all our input files and running them again? That will be left as an exercise for the reader."
   ]
  },
  {
   "cell_type": "code",
   "execution_count": null,
   "id": "688ca884",
   "metadata": {},
   "outputs": [],
   "source": []
  }
 ],
 "metadata": {
  "interpreter": {
   "hash": "31f2aee4e71d21fbe5cf8b01ff0e069b9275f58929596ceb00d14d90e3e16cd6"
  },
  "kernelspec": {
   "display_name": "Python 3 (ipykernel)",
   "language": "python",
   "name": "python3"
  },
  "language_info": {
   "codemirror_mode": {
    "name": "ipython",
    "version": 3
   },
   "file_extension": ".py",
   "mimetype": "text/x-python",
   "name": "python",
   "nbconvert_exporter": "python",
   "pygments_lexer": "ipython3",
   "version": "3.9.7"
  }
 },
 "nbformat": 4,
 "nbformat_minor": 5
}