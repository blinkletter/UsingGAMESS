{
 "cells": [
  {
   "cell_type": "markdown",
   "id": "878a8775",
   "metadata": {},
   "source": [
    "# Data Cleaning Workflow\n",
    "\n",
    "As **discussed** in the exercise we have **extracted** the IRC log files for the gas-phase and solvent calculations to obtain the following files. In addition we have **observed** that the energy at step zero is -955.6969739956&nbsp;*Ha* for the solvent and -955.6090406225&nbsp;*Ha* for gas-phase.\n",
    "\n",
    "| Files    |  Description    |\n",
    "|  :---------------------------    | :-------------------------  |\n",
    "| stride.txt \\& stride_r.txt       | The stride distance. neither file includes zero\n",
    "| energy.txt \\& energy_r.txt       | The energies, neither file includes energy at step zero\n",
    "| C-Cl-1-3.txt \\& C-Cl-1-3_r.txt   | The C-Cl bond length at all steps, including step zero in both files\n",
    "| C-Cl-2-3.txt \\& C-Cl-2-3_r.txt   | The other C-Cl bond length. Also includes step zero in both files\n",
    "\n",
    "And the corresponding gas phase result files.\n",
    "\n",
    "| Files    |  Description    |\n",
    "|  :---------------------------    | :-------------------------  |\n",
    "| gstride.txt \\& gstride_r.txt       | The stride distance. neither file includes zero\n",
    "| genergy.txt \\& genergy_r.txt       | The energies, neither file includes energy at step zero\n",
    "| gC-Cl-1-3.txt \\& gC-Cl-1-3_r.txt   | The C-Cl bond length at all steps, including step zero in both files\n",
    "| gC-Cl-2-3.txt \\& gC-Cl-2-3_r.txt   | The other C-Cl bond length. Also includes step zero in both files\n",
    "\n"
   ]
  },
  {
   "cell_type": "markdown",
   "id": "e55acb93",
   "metadata": {},
   "source": [
    "## Load Your Tools\n",
    "Load in the modules needed for this exercise."
   ]
  },
  {
   "cell_type": "code",
   "execution_count": 1,
   "id": "47bd1bf0",
   "metadata": {},
   "outputs": [],
   "source": [
    "import pandas as pd\n",
    "import numpy as np\n",
    "import matplotlib.pyplot as plt"
   ]
  },
  {
   "cell_type": "markdown",
   "id": "8535ce2b",
   "metadata": {},
   "source": [
    "## Importing Raw Data\n",
    "We could have **edited** the data in a text editor, but we will do everything using the data analysis tools of *Python* and *pandas*. First we will **import** the data as a dataframe using *pandas*. The datafile must be in the same directory as this workbook, or you must specify the file path. Don't worry, *Python* will scream at you if you make a mistake and you will be able to **fix any problems**.\n",
    "\n",
    "We will use the `pandas.read_csv()` function to **read each file** and create a dataframe object. The `header = None` setting prevents the first line from being used to label the columns. The `sep = r\"\\s+|_\"` establishes that one or more spaces **separates** columns and also the `_` character separates columns. The `engine = \"python\"` means to use the python engine rather than the default *cpython* engine. The *cpython* engine is much faster, but it is not compatible with the way I am using the `sep` parameter. How do I know this? I got an error message that told me what to do.\n",
    "\n",
    "The block of code **below** sets up the data files for importing the solvent data. This way we can change the filenames here and will not need to edit them in the document later. "
   ]
  },
  {
   "cell_type": "code",
   "execution_count": 2,
   "id": "99775ca4",
   "metadata": {},
   "outputs": [],
   "source": [
    "path = \"/Users/blink/Documents/CompChem/Exercises/temp/\"   # This is the folder where the data is. You will have your own different path.\n",
    "\n",
    "stride_file = path + \"stride.txt\"\n",
    "stride_r_file = path + \"stride_r.txt\"\n",
    "energy_file = path + \"energy.txt\"\n",
    "energy_r_file = path + \"energy_r.txt\"\n",
    "C_Cl_1_3_file = path + \"C-Cl-1-3.txt\"\n",
    "C_Cl_1_3_r_file = path + \"C-Cl-1-3_r.txt\"\n",
    "C_Cl_2_3_file = path + \"C-Cl-2-3.txt\"\n",
    "C_Cl_2_3_r_file = path + \"C-Cl-2-3_r.txt\"\n",
    "TS_energy = -955.6969739956"
   ]
  },
  {
   "cell_type": "markdown",
   "id": "fe88d06f",
   "metadata": {},
   "source": [
    "## Cleaning the Data\n",
    "\n",
    "Data cleaning is **half the work** in data analysis. We need to drop empty and malformed records (each line could be considered a record in this case). We will need to drop any fields (the columns in each record are the fields). that we don't need. Inspecting the dataframe shows me that I only need a single column from each file. We will also rename the column for what it represents.\n",
    "\n",
    "In the code below I create a new dataframe by **selecting** the chosen column out of the previous dataframe. we will need to **invert** the sign on the stride_r (reaction progress) for the **reverse data**. Then we will **append** it to the stride dataframe. We will then create a dataframe for the stride value of **zero** and append it to the the top of the dataframe (this value will be the first in the dataframe.) Then I **renamed** the column header so I don't forget what it is."
   ]
  },
  {
   "cell_type": "code",
   "execution_count": 3,
   "id": "e09dc259",
   "metadata": {
    "tags": [
     "hide-input"
    ]
   },
   "outputs": [
    {
     "data": {
      "text/html": [
       "<div>\n",
       "<style scoped>\n",
       "    .dataframe tbody tr th:only-of-type {\n",
       "        vertical-align: middle;\n",
       "    }\n",
       "\n",
       "    .dataframe tbody tr th {\n",
       "        vertical-align: top;\n",
       "    }\n",
       "\n",
       "    .dataframe thead th {\n",
       "        text-align: right;\n",
       "    }\n",
       "</style>\n",
       "<table border=\"1\" class=\"dataframe\">\n",
       "  <thead>\n",
       "    <tr style=\"text-align: right;\">\n",
       "      <th></th>\n",
       "      <th>0</th>\n",
       "      <th>1</th>\n",
       "      <th>2</th>\n",
       "      <th>3</th>\n",
       "      <th>4</th>\n",
       "      <th>5</th>\n",
       "      <th>6</th>\n",
       "    </tr>\n",
       "  </thead>\n",
       "  <tbody>\n",
       "    <tr>\n",
       "      <th>0</th>\n",
       "      <td>AT</td>\n",
       "      <td>PATH</td>\n",
       "      <td>DISTANCE</td>\n",
       "      <td>STOTAL</td>\n",
       "      <td>=</td>\n",
       "      <td>0.09998</td>\n",
       "      <td>SQRT(AMU)-BOHR</td>\n",
       "    </tr>\n",
       "    <tr>\n",
       "      <th>1</th>\n",
       "      <td>AT</td>\n",
       "      <td>PATH</td>\n",
       "      <td>DISTANCE</td>\n",
       "      <td>STOTAL</td>\n",
       "      <td>=</td>\n",
       "      <td>0.19993</td>\n",
       "      <td>SQRT(AMU)-BOHR</td>\n",
       "    </tr>\n",
       "    <tr>\n",
       "      <th>2</th>\n",
       "      <td>AT</td>\n",
       "      <td>PATH</td>\n",
       "      <td>DISTANCE</td>\n",
       "      <td>STOTAL</td>\n",
       "      <td>=</td>\n",
       "      <td>0.29991</td>\n",
       "      <td>SQRT(AMU)-BOHR</td>\n",
       "    </tr>\n",
       "  </tbody>\n",
       "</table>\n",
       "</div>"
      ],
      "text/plain": [
       "    0     1         2       3  4        5               6\n",
       "0  AT  PATH  DISTANCE  STOTAL  =  0.09998  SQRT(AMU)-BOHR\n",
       "1  AT  PATH  DISTANCE  STOTAL  =  0.19993  SQRT(AMU)-BOHR\n",
       "2  AT  PATH  DISTANCE  STOTAL  =  0.29991  SQRT(AMU)-BOHR"
      ]
     },
     "metadata": {},
     "output_type": "display_data"
    }
   ],
   "source": [
    "df = pd.read_csv(stride_file, header = None, sep = r\"\\s+|_\", engine = \"python\") \n",
    "df_r = pd.read_csv(stride_r_file, header = None, sep = r\"\\s+|_\", engine = \"python\") \n",
    "display(df.head(3))\n",
    "#display(df_r.head(3))"
   ]
  },
  {
   "cell_type": "code",
   "execution_count": 4,
   "id": "aa1fb4c2",
   "metadata": {
    "tags": [
     "hide-input"
    ]
   },
   "outputs": [
    {
     "name": "stdout",
     "output_type": "stream",
     "text": [
      "    stride\n",
      "0  0.00000\n",
      "1  0.09998\n",
      "2  0.19993\n",
      "3  0.29991\n",
      "4  0.39990\n"
     ]
    }
   ],
   "source": [
    "stride = df[:][[5]]               # forward progress \n",
    "stride_r = df_r[:][[5]] * (-1)    # reverse the progress for reverse IRC\n",
    "\n",
    "stride_all = pd.concat([stride,stride_r])     # combine forward and reverse data\n",
    "stride_all = stride_all.rename({5:\"stride\"}, axis='columns')\n",
    "\n",
    "stride_zero = pd.DataFrame({0.000}, columns = [\"stride\"])  # make a single-entry dataframe for zero\n",
    "\n",
    "stride_all = pd.concat([stride_zero,stride_all])\n",
    "stride_all.reset_index(drop=True, inplace=True) # reorder the index numbers\n",
    "print(stride_all.head())"
   ]
  },
  {
   "cell_type": "markdown",
   "id": "c0158c29",
   "metadata": {},
   "source": [
    "### Rinse and Repeat\n",
    "\n",
    "We will **repeat** this for the energy files, adding the transition state energy to the top as above."
   ]
  },
  {
   "cell_type": "code",
   "execution_count": 5,
   "id": "e8a61b53",
   "metadata": {
    "tags": [
     "hide-input"
    ]
   },
   "outputs": [
    {
     "data": {
      "text/html": [
       "<div>\n",
       "<style scoped>\n",
       "    .dataframe tbody tr th:only-of-type {\n",
       "        vertical-align: middle;\n",
       "    }\n",
       "\n",
       "    .dataframe tbody tr th {\n",
       "        vertical-align: top;\n",
       "    }\n",
       "\n",
       "    .dataframe thead th {\n",
       "        text-align: right;\n",
       "    }\n",
       "</style>\n",
       "<table border=\"1\" class=\"dataframe\">\n",
       "  <thead>\n",
       "    <tr style=\"text-align: right;\">\n",
       "      <th></th>\n",
       "      <th>0</th>\n",
       "      <th>1</th>\n",
       "      <th>2</th>\n",
       "      <th>3</th>\n",
       "      <th>4</th>\n",
       "    </tr>\n",
       "  </thead>\n",
       "  <tbody>\n",
       "    <tr>\n",
       "      <th>0</th>\n",
       "      <td>TOTAL</td>\n",
       "      <td>ENERGY</td>\n",
       "      <td>=</td>\n",
       "      <td>-955.696996</td>\n",
       "      <td>HARTREE</td>\n",
       "    </tr>\n",
       "    <tr>\n",
       "      <th>1</th>\n",
       "      <td>TOTAL</td>\n",
       "      <td>ENERGY</td>\n",
       "      <td>=</td>\n",
       "      <td>-955.697061</td>\n",
       "      <td>HARTREE</td>\n",
       "    </tr>\n",
       "    <tr>\n",
       "      <th>2</th>\n",
       "      <td>TOTAL</td>\n",
       "      <td>ENERGY</td>\n",
       "      <td>=</td>\n",
       "      <td>-955.697168</td>\n",
       "      <td>HARTREE</td>\n",
       "    </tr>\n",
       "  </tbody>\n",
       "</table>\n",
       "</div>"
      ],
      "text/plain": [
       "       0       1  2           3        4\n",
       "0  TOTAL  ENERGY  = -955.696996  HARTREE\n",
       "1  TOTAL  ENERGY  = -955.697061  HARTREE\n",
       "2  TOTAL  ENERGY  = -955.697168  HARTREE"
      ]
     },
     "metadata": {},
     "output_type": "display_data"
    },
    {
     "data": {
      "text/html": [
       "<div>\n",
       "<style scoped>\n",
       "    .dataframe tbody tr th:only-of-type {\n",
       "        vertical-align: middle;\n",
       "    }\n",
       "\n",
       "    .dataframe tbody tr th {\n",
       "        vertical-align: top;\n",
       "    }\n",
       "\n",
       "    .dataframe thead th {\n",
       "        text-align: right;\n",
       "    }\n",
       "</style>\n",
       "<table border=\"1\" class=\"dataframe\">\n",
       "  <thead>\n",
       "    <tr style=\"text-align: right;\">\n",
       "      <th></th>\n",
       "      <th>0</th>\n",
       "      <th>1</th>\n",
       "      <th>2</th>\n",
       "      <th>3</th>\n",
       "      <th>4</th>\n",
       "    </tr>\n",
       "  </thead>\n",
       "  <tbody>\n",
       "    <tr>\n",
       "      <th>0</th>\n",
       "      <td>TOTAL</td>\n",
       "      <td>ENERGY</td>\n",
       "      <td>=</td>\n",
       "      <td>-955.696996</td>\n",
       "      <td>HARTREE</td>\n",
       "    </tr>\n",
       "    <tr>\n",
       "      <th>1</th>\n",
       "      <td>TOTAL</td>\n",
       "      <td>ENERGY</td>\n",
       "      <td>=</td>\n",
       "      <td>-955.697060</td>\n",
       "      <td>HARTREE</td>\n",
       "    </tr>\n",
       "    <tr>\n",
       "      <th>2</th>\n",
       "      <td>TOTAL</td>\n",
       "      <td>ENERGY</td>\n",
       "      <td>=</td>\n",
       "      <td>-955.697166</td>\n",
       "      <td>HARTREE</td>\n",
       "    </tr>\n",
       "  </tbody>\n",
       "</table>\n",
       "</div>"
      ],
      "text/plain": [
       "       0       1  2           3        4\n",
       "0  TOTAL  ENERGY  = -955.696996  HARTREE\n",
       "1  TOTAL  ENERGY  = -955.697060  HARTREE\n",
       "2  TOTAL  ENERGY  = -955.697166  HARTREE"
      ]
     },
     "metadata": {},
     "output_type": "display_data"
    }
   ],
   "source": [
    "df = pd.read_csv(energy_file, header = None, sep = r\"\\s+|_\", engine = \"python\") \n",
    "df_r = pd.read_csv(energy_r_file, header = None, sep = r\"\\s+|_\", engine = \"python\") \n",
    "display(df.head(3))\n",
    "display(df_r.head(3))"
   ]
  },
  {
   "cell_type": "code",
   "execution_count": 6,
   "id": "99abfd55",
   "metadata": {
    "tags": [
     "hide-input"
    ]
   },
   "outputs": [
    {
     "name": "stdout",
     "output_type": "stream",
     "text": [
      "         energy  E(kJ/mole)\n",
      "0   -955.696974    0.000000\n",
      "1   -955.696996   -0.057247\n",
      "2   -955.697061   -0.227905\n",
      "3   -955.697168   -0.508833\n",
      "4   -955.697314   -0.893732\n",
      "..          ...         ...\n",
      "96  -955.705794  -23.155871\n",
      "97  -955.705798  -23.166373\n",
      "98  -955.705799  -23.170049\n",
      "99  -955.705800  -23.171362\n",
      "100 -955.705800  -23.172149\n",
      "\n",
      "[101 rows x 2 columns]\n"
     ]
    }
   ],
   "source": [
    "energy = df[:][[3]]       # the forward energy list\n",
    "energy_r = df_r[:][[3]]   # the reverse energy list\n",
    "\n",
    "energy_all = pd.concat([energy,energy_r])\n",
    "energy_all = energy_all.rename({3:\"energy\"}, axis='columns')\n",
    "\n",
    "energy_zero = pd.DataFrame({TS_energy}, columns = [\"energy\"])\n",
    "\n",
    "energy_all = pd.concat([energy_zero,energy_all])\n",
    "energy_all.reset_index(drop=True, inplace=True)\n",
    "\n",
    "max_energy = energy_all[:][\"energy\"].max()    # Find maximum energy in the list\n",
    "energy_all[\"E(kJ/mole)\"]=((energy_all - max_energy)*2625.5)   # subtract it to get relative energies\n",
    "\n",
    "print(energy_all)"
   ]
  },
  {
   "cell_type": "markdown",
   "id": "ffc98ec2",
   "metadata": {},
   "source": [
    "### More Cleaning\n",
    "\n",
    "Again this was repeated with the C-Cl bond length files. **Here** the zero position in included so it was **removed** from the reverse dataframe before it being appended to the end of the forward dataframe. The zero data point is kept at the top of the other dataframes so this will workout. The procedure will be **repeated** again for the second set of files."
   ]
  },
  {
   "cell_type": "code",
   "execution_count": 7,
   "id": "b3e38327",
   "metadata": {},
   "outputs": [],
   "source": [
    "df = pd.read_csv(C_Cl_1_3_file, header = None, sep = r\"\\s+|_\", engine = \"python\") \n",
    "df_r = pd.read_csv(C_Cl_1_3_r_file, header = None, sep = r\"\\s+|_\", engine = \"python\") \n",
    "df_r=df_r.drop(index=[0], axis=\"index\")     # drop the transition state distance from the reverse list\n",
    "\n",
    "#display(df.head())\n",
    "#display(df_r.head(3))"
   ]
  },
  {
   "cell_type": "code",
   "execution_count": 8,
   "id": "bf55bf46",
   "metadata": {},
   "outputs": [],
   "source": [
    "CCl1 = df[:][[5]]       # the forward C-C1 (1,3) distances\n",
    "CCl1_r = df_r[:][[5]]   # the forward C-C1 (1,3) distances\n",
    "CCl1_all = pd.concat([CCl1,CCl1_r])\n",
    "CCl1_all = CCl1_all.rename({5:\"C-Cl1\"}, axis='columns')\n",
    "\n",
    "CCl1_all.reset_index(drop=True, inplace=True)\n",
    "#print(CCl1_all)"
   ]
  },
  {
   "cell_type": "code",
   "execution_count": 9,
   "id": "4fb12525",
   "metadata": {},
   "outputs": [],
   "source": [
    "df = pd.read_csv(C_Cl_2_3_file, header = None, sep = r\"\\s+|_\", engine = \"python\") \n",
    "df_r = pd.read_csv(C_Cl_2_3_r_file, header = None, sep = r\"\\s+|_\", engine = \"python\") \n",
    "df_r=df_r.drop(index=[0], axis=\"index\")   # drop the transition state distance from the reverse list\n",
    "\n",
    "#display(df.head(3))\n",
    "#display(df_r.head(3))"
   ]
  },
  {
   "cell_type": "code",
   "execution_count": 10,
   "id": "99387780",
   "metadata": {},
   "outputs": [],
   "source": [
    "import numpy as np\n",
    "CCl2 = df[:][[5]]\n",
    "CCl2_r = df_r[:][[5]]   # reverse the progress for reverse IRC\n",
    "CCl2_all = pd.concat([CCl2,CCl2_r])\n",
    "CCl2_all = CCl2_all.rename({5:\"C-Cl2\"}, axis='columns')\n",
    "\n",
    "CCl2_all.reset_index(drop=True, inplace=True)\n",
    "#print(CCl2_all)"
   ]
  },
  {
   "cell_type": "markdown",
   "id": "35fdc71f",
   "metadata": {},
   "source": [
    "### Documentation is Important\n",
    "\n",
    "Take note of the **descriptions** for how I **converted** the text data files into dataframes and then **processed** them to create the individual dataframes for each type of **data**. This **documentation** is not a waste of time. Next week, I will have no memory of what I did. I will be able to **follow** my own work and trouble shoot any errors because of this documentation. Most importantly, others will be able to recognize my genius or **correct** my mistakes\n",
    "\n",
    "## Collate and Write Data Table\n",
    "\n",
    "We have **various lists** of corresponding values **extracted** from the log files. Now we will **join** the Dataframes containing each list to make a **data table**.  It is important that the `pd.reset_index()` method be applied to each list so that all have the **same** series of **index values**. The `pd.join()` method will align data acording to the index value. "
   ]
  },
  {
   "cell_type": "code",
   "execution_count": 11,
   "id": "ae3ef272",
   "metadata": {},
   "outputs": [
    {
     "data": {
      "text/html": [
       "<div>\n",
       "<style scoped>\n",
       "    .dataframe tbody tr th:only-of-type {\n",
       "        vertical-align: middle;\n",
       "    }\n",
       "\n",
       "    .dataframe tbody tr th {\n",
       "        vertical-align: top;\n",
       "    }\n",
       "\n",
       "    .dataframe thead th {\n",
       "        text-align: right;\n",
       "    }\n",
       "</style>\n",
       "<table border=\"1\" class=\"dataframe\">\n",
       "  <thead>\n",
       "    <tr style=\"text-align: right;\">\n",
       "      <th></th>\n",
       "      <th>stride</th>\n",
       "      <th>energy</th>\n",
       "      <th>E(kJ/mole)</th>\n",
       "      <th>C-Cl1</th>\n",
       "      <th>C-Cl2</th>\n",
       "    </tr>\n",
       "  </thead>\n",
       "  <tbody>\n",
       "    <tr>\n",
       "      <th>0</th>\n",
       "      <td>-4.85695</td>\n",
       "      <td>-955.705800</td>\n",
       "      <td>-23.172149</td>\n",
       "      <td>1.958707</td>\n",
       "      <td>3.107504</td>\n",
       "    </tr>\n",
       "    <tr>\n",
       "      <th>1</th>\n",
       "      <td>-4.83761</td>\n",
       "      <td>-955.705800</td>\n",
       "      <td>-23.171362</td>\n",
       "      <td>1.958823</td>\n",
       "      <td>3.105239</td>\n",
       "    </tr>\n",
       "    <tr>\n",
       "      <th>2</th>\n",
       "      <td>-4.81292</td>\n",
       "      <td>-955.705799</td>\n",
       "      <td>-23.170049</td>\n",
       "      <td>1.958993</td>\n",
       "      <td>3.102160</td>\n",
       "    </tr>\n",
       "    <tr>\n",
       "      <th>3</th>\n",
       "      <td>-4.76930</td>\n",
       "      <td>-955.705798</td>\n",
       "      <td>-23.166373</td>\n",
       "      <td>1.959371</td>\n",
       "      <td>3.096809</td>\n",
       "    </tr>\n",
       "    <tr>\n",
       "      <th>4</th>\n",
       "      <td>-4.69106</td>\n",
       "      <td>-955.705794</td>\n",
       "      <td>-23.155871</td>\n",
       "      <td>1.959962</td>\n",
       "      <td>3.087264</td>\n",
       "    </tr>\n",
       "  </tbody>\n",
       "</table>\n",
       "</div>"
      ],
      "text/plain": [
       "    stride      energy  E(kJ/mole)     C-Cl1     C-Cl2\n",
       "0 -4.85695 -955.705800  -23.172149  1.958707  3.107504\n",
       "1 -4.83761 -955.705800  -23.171362  1.958823  3.105239\n",
       "2 -4.81292 -955.705799  -23.170049  1.958993  3.102160\n",
       "3 -4.76930 -955.705798  -23.166373  1.959371  3.096809\n",
       "4 -4.69106 -955.705794  -23.155871  1.959962  3.087264"
      ]
     },
     "metadata": {},
     "output_type": "display_data"
    }
   ],
   "source": [
    "data=stride_all.join([energy_all,CCl1_all,CCl2_all]) # Join all the lists together\n",
    "\n",
    "data=data.sort_values(by=['stride'])        # sort the table by \"stride\" values\n",
    "data.reset_index(drop=True, inplace=True)   # reset the index values\n",
    "display(data.head())"
   ]
  },
  {
   "cell_type": "markdown",
   "id": "c569974a",
   "metadata": {},
   "source": [
    "### Writing Data Files\n",
    "\n",
    "Now that we have a set of processed data we should **write it out** so that we can **use it again** and again without having to repeat this whole processing procedure. You will be writing two files in the end. After processing the solvent IRC data we will write the **file** \"`SN2_IRC_Solvent_Data.txt`\". then you will be **repeating** this whole shebang using the gas phase data extracts and, when you **return here**, we will write the file \"`SN2_IRC_Data_GasPhase_Data.txt`\"."
   ]
  },
  {
   "cell_type": "code",
   "execution_count": 12,
   "id": "08881e06",
   "metadata": {},
   "outputs": [],
   "source": [
    "#writefilename = \"SN2_IRC_Solvent_Data.txt\"\n",
    "#writefilename = \"SN2_IRC_Data_GasPhase_Data.txt\"\n",
    "writefilename = \"temp.txt\"   # placeholder name. Use one of the names above.\n",
    "\n",
    "data.to_csv(path+writefilename)"
   ]
  },
  {
   "cell_type": "markdown",
   "id": "de29c524",
   "metadata": {},
   "source": [
    "## Do It All Again\n",
    "\n",
    "**Execute** the code block below and **then go back** to the top of this notebook and execute all the data cleaning and processing code **again**. You will now have a table of the gas phase data and will save it with the indicated filename. These *Jupyter* notebooks are meant to be **used and re-used** and copied and pasted."
   ]
  },
  {
   "cell_type": "code",
   "execution_count": 13,
   "id": "4512ed49",
   "metadata": {},
   "outputs": [],
   "source": [
    "path = \"/Users/blink/Documents/CompChem/Exercises/temp/\"\n",
    "\n",
    "stride_file = path + \"gstride.txt\"\n",
    "stride_r_file = path + \"gstride_r.txt\"\n",
    "energy_file = path + \"genergy.txt\"\n",
    "energy_r_file = path + \"genergy_r.txt\"\n",
    "C_Cl_1_3_file = path + \"gC-Cl-1-3.txt\"\n",
    "C_Cl_1_3_r_file = path + \"gC-Cl-1-3_r.txt\"\n",
    "C_Cl_2_3_file = path + \"gC-Cl-2-3.txt\"\n",
    "C_Cl_2_3_r_file = path + \"gC-Cl-2-3_r.txt\"\n",
    "TS_energy = -955.6090406225"
   ]
  },
  {
   "cell_type": "markdown",
   "id": "f26a4fa7",
   "metadata": {},
   "source": [
    "## Your Ready to Plot\n",
    "\n",
    "We now have the **two data tables saved** as text files. We will use them in the [next notebook](10_Solvent_IRC_Plots-Data.ipynb) where we will plot the data and see if there is a **difference** between the solvent and gas-phase calculations.\n",
    "\n",
    "## Plots\n",
    "Below are some **quick** plots of various value pairs. They confirm that my data processing did not cause any disasterous misalignments of data series. They were just used for **diagnostic** purposes (I found some really big mistakes that showed up as crazy zig-zag plots before I figure all this out).\n",
    "\n",
    "I am leaving them here for your information. Please **proceed** to the next notebook to compare the data sets."
   ]
  },
  {
   "cell_type": "code",
   "execution_count": 14,
   "id": "57e2bbc6",
   "metadata": {},
   "outputs": [
    {
     "data": {
      "image/png": "[encoded data removed]",
      "text/plain": [
       "<Figure size 640x480 with 1 Axes>"
      ]
     },
     "metadata": {},
     "output_type": "display_data"
    }
   ],
   "source": [
    "import matplotlib.pyplot as plt\n",
    "x = data[:][\"stride\"]           # stride value\n",
    "y = data[:][\"E(kJ/mole)\"]       # relative energy\n",
    "\n",
    "plt.plot(x,y, \"k-\")\n",
    "plt.show()"
   ]
  },
  {
   "cell_type": "code",
   "execution_count": 15,
   "id": "af94a68e",
   "metadata": {},
   "outputs": [
    {
     "data": {
      "image/png": "[encoded data removed]",
      "text/plain": [
       "<Figure size 640x480 with 1 Axes>"
      ]
     },
     "metadata": {},
     "output_type": "display_data"
    }
   ],
   "source": [
    "x = data[:][\"C-Cl1\"]        # 1,3 bond distance\n",
    "y = data[:][\"C-Cl2\"]        # 2,3 bond distance\n",
    "\n",
    "plt.plot(x,y, \"k-\")\n",
    "plt.show()"
   ]
  },
  {
   "cell_type": "code",
   "execution_count": 16,
   "id": "37158b6f",
   "metadata": {},
   "outputs": [
    {
     "data": {
      "image/png": "[encoded data removed]",
      "text/plain": [
       "<Figure size 640x480 with 1 Axes>"
      ]
     },
     "metadata": {},
     "output_type": "display_data"
    }
   ],
   "source": [
    "x = data[:][\"C-Cl2\"]            # 2,3 bond distance\n",
    "y = data[:][\"E(kJ/mole)\"]       # relative energy\n",
    "\n",
    "plt.plot(x,y, \"k-\")\n",
    "plt.show()"
   ]
  },
  {
   "cell_type": "code",
   "execution_count": 17,
   "id": "336cd0fe",
   "metadata": {},
   "outputs": [
    {
     "data": {
      "image/png": "[encoded data removed]",
      "text/plain": [
       "<Figure size 640x480 with 1 Axes>"
      ]
     },
     "metadata": {},
     "output_type": "display_data"
    }
   ],
   "source": [
    "x = data.index             # step number\n",
    "y = data[:][\"C-Cl1\"]       # 1,3 bond distance\n",
    "\n",
    "plt.plot(x,y, \"k-\")\n",
    "plt.show()"
   ]
  }
 ],
 "metadata": {
  "celltoolbar": "Edit Metadata",
  "interpreter": {
   "hash": "31f2aee4e71d21fbe5cf8b01ff0e069b9275f58929596ceb00d14d90e3e16cd6"
  },
  "kernelspec": {
   "display_name": "Python 3 (ipykernel)",
   "language": "python",
   "name": "python3"
  },
  "language_info": {
   "codemirror_mode": {
    "name": "ipython",
    "version": 3
   },
   "file_extension": ".py",
   "mimetype": "text/x-python",
   "name": "python",
   "nbconvert_exporter": "python",
   "pygments_lexer": "ipython3",
   "version": "3.11.4"
  }
 },
 "nbformat": 4,
 "nbformat_minor": 5
}