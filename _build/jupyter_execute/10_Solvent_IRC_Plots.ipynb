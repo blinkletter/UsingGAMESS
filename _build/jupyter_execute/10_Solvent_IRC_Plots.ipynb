{
 "cells": [
  {
   "cell_type": "markdown",
   "id": "878a8775",
   "metadata": {},
   "source": [
    "# Data Cleaning Workflow\n",
    "\n",
    "As **discussed** in the exercise we have **extracted** the IRC log files for the gas-phase and solvent calculations to obtain the following files. In addition we have **observed** that the energy at step zero is -955.6969739956&nbsp;*Ha* for the solvent and -955.6090406225&nbsp;*Ha* for gas-phase.\n",
    "\n",
    "| Files    |  Description    |\n",
    "|  :---------------------------    | :-------------------------  |\n",
    "| stride.txt \\& stride_r.txt       | The stride distance. neither file includes zero\n",
    "| energy.txt \\& energy_r.txt       | The energies, neither file includes energy at step zero\n",
    "| C-Cl-1-3.txt \\& C-Cl-1-3_r.txt   | The C-Cl bond length at all steps, including step zero in both files\n",
    "| C-Cl-2-3.txt \\& C-Cl-2-3_r.txt   | The other C-Cl bond length. Also includes step zero in both files\n",
    "\n",
    "And the corresponding gas phase result files.\n",
    "\n",
    "| Files    |  Description    |\n",
    "|  :---------------------------    | :-------------------------  |\n",
    "| gstride.txt \\& gstride_r.txt       | The stride distance. neither file includes zero\n",
    "| genergy.txt \\& genergy_r.txt       | The energies, neither file includes energy at step zero\n",
    "| gC-Cl-1-3.txt \\& gC-Cl-1-3_r.txt   | The C-Cl bond length at all steps, including step zero in both files\n",
    "| gC-Cl-2-3.txt \\& gC-Cl-2-3_r.txt   | The other C-Cl bond length. Also includes step zero in both files\n",
    "\n"
   ]
  },
  {
   "cell_type": "markdown",
   "id": "e55acb93",
   "metadata": {},
   "source": [
    "## Load Your Tools\n",
    "Load in the modules needed for this exercise."
   ]
  },
  {
   "cell_type": "code",
   "execution_count": 1,
   "id": "47bd1bf0",
   "metadata": {},
   "outputs": [],
   "source": [
    "import pandas as pd\n",
    "import numpy as np\n",
    "import matplotlib.pyplot as plt"
   ]
  },
  {
   "cell_type": "markdown",
   "id": "8535ce2b",
   "metadata": {},
   "source": [
    "## Importing Raw Data\n",
    "We could have **edited** the data in a text editor, but we will do everything using the data analysis tools of *Python* and *pandas*. First we will **import** the data as a dataframe using *pandas*. The datafile must be in the same directory as this workbook, or you must specify the file path. Don't worry, *Python* will scream at you if you make a mistake and you will be able to **fix any problems**.\n",
    "\n",
    "We will use the `pandas.read_csv()` function to **read each file** and create a dataframe object. The `header = None` setting prevents the first line from being used to label the columns. The `sep = r\"\\s+|_\"` establishes that one or more spaces **separates** columns and also the `_` character separates columns. The `engine = \"python\"` means to use the python engine rather than the default *cpython* engine. The *cpython* engine is much faster, but it is not compatible with the way I am using the `sep` parameter. How do I know this? I got an error message that told me what to do.\n",
    "\n",
    "The block of code **below** sets up the data files for importing the solvent data. This way we can change the filenames here and will not need to edit them in the document later. "
   ]
  },
  {
   "cell_type": "code",
   "execution_count": 2,
   "id": "99775ca4",
   "metadata": {},
   "outputs": [],
   "source": [
    "path = \"/Users/blink/Documents/CompChem/Exercises/temp/\"\n",
    "\n",
    "stride_file = path + \"stride.txt\"\n",
    "stride_r_file = path + \"stride_r.txt\"\n",
    "energy_file = path + \"energy.txt\"\n",
    "energy_r_file = path + \"energy_r.txt\"\n",
    "C_Cl_1_3_file = path + \"C-Cl-1-3.txt\"\n",
    "C_Cl_1_3_r_file = path + \"C-Cl-1-3_r.txt\"\n",
    "C_Cl_2_3_file = path + \"C-Cl-2-3.txt\"\n",
    "C_Cl_2_3_r_file = path + \"C-Cl-2-3_r.txt\"\n",
    "TS_energy = -955.6969739956"
   ]
  },
  {
   "cell_type": "markdown",
   "id": "fe88d06f",
   "metadata": {},
   "source": [
    "## Cleaning the Data\n",
    "\n",
    "Data cleaning is **half the work** in data analysis. We need to drop empty and malformed records (each line could be considered a record in this case). We will need to drop any fields (the columns in each record are the fields). that we don't need. Inspecting the dataframe shows me that I only need a single column frommeach file. We will also rename the column for what it represents.\n",
    "\n",
    "In the code below I create a new dataframe by **selecting** the chosen column out of the previous dataframe. we will need to **invert** the sign on the stride_r (reaction progress) for the **reverse data**. Then we will **append** it to the stride dataframe. We will then create a dataframe for the stride value of **zero** and append it to the the top of the dataframe (this value will be the first in the dataframe.) Then I **renamed** the column header so I don't forget what it is."
   ]
  },
  {
   "cell_type": "code",
   "execution_count": 3,
   "id": "e09dc259",
   "metadata": {},
   "outputs": [
    {
     "ename": "FileNotFoundError",
     "evalue": "[Errno 2] No such file or directory: '/Users/blink/Documents/CompChem/Exercises/temp/stride.txt'",
     "output_type": "error",
     "traceback": [
      "\u001b[0;31m---------------------------------------------------------------------------\u001b[0m",
      "\u001b[0;31mFileNotFoundError\u001b[0m                         Traceback (most recent call last)",
      "\u001b[0;32m/var/folders/47/77583m4574g5my09v13lx7vr0000gp/T/ipykernel_80131/932983359.py\u001b[0m in \u001b[0;36m<module>\u001b[0;34m\u001b[0m\n\u001b[0;32m----> 1\u001b[0;31m \u001b[0mdf\u001b[0m \u001b[0;34m=\u001b[0m \u001b[0mpd\u001b[0m\u001b[0;34m.\u001b[0m\u001b[0mread_csv\u001b[0m\u001b[0;34m(\u001b[0m\u001b[0mstride_file\u001b[0m\u001b[0;34m,\u001b[0m \u001b[0mheader\u001b[0m \u001b[0;34m=\u001b[0m \u001b[0;32mNone\u001b[0m\u001b[0;34m,\u001b[0m \u001b[0msep\u001b[0m \u001b[0;34m=\u001b[0m \u001b[0;34mr\"\\s+|_\"\u001b[0m\u001b[0;34m,\u001b[0m \u001b[0mengine\u001b[0m \u001b[0;34m=\u001b[0m \u001b[0;34m\"python\"\u001b[0m\u001b[0;34m)\u001b[0m\u001b[0;34m\u001b[0m\u001b[0;34m\u001b[0m\u001b[0m\n\u001b[0m\u001b[1;32m      2\u001b[0m \u001b[0mdf_r\u001b[0m \u001b[0;34m=\u001b[0m \u001b[0mpd\u001b[0m\u001b[0;34m.\u001b[0m\u001b[0mread_csv\u001b[0m\u001b[0;34m(\u001b[0m\u001b[0mstride_r_file\u001b[0m\u001b[0;34m,\u001b[0m \u001b[0mheader\u001b[0m \u001b[0;34m=\u001b[0m \u001b[0;32mNone\u001b[0m\u001b[0;34m,\u001b[0m \u001b[0msep\u001b[0m \u001b[0;34m=\u001b[0m \u001b[0;34mr\"\\s+|_\"\u001b[0m\u001b[0;34m,\u001b[0m \u001b[0mengine\u001b[0m \u001b[0;34m=\u001b[0m \u001b[0;34m\"python\"\u001b[0m\u001b[0;34m)\u001b[0m\u001b[0;34m\u001b[0m\u001b[0;34m\u001b[0m\u001b[0m\n\u001b[1;32m      3\u001b[0m \u001b[0mdisplay\u001b[0m\u001b[0;34m(\u001b[0m\u001b[0mdf\u001b[0m\u001b[0;34m.\u001b[0m\u001b[0mhead\u001b[0m\u001b[0;34m(\u001b[0m\u001b[0;36m3\u001b[0m\u001b[0;34m)\u001b[0m\u001b[0;34m)\u001b[0m\u001b[0;34m\u001b[0m\u001b[0;34m\u001b[0m\u001b[0m\n\u001b[1;32m      4\u001b[0m \u001b[0;31m#display(df_r.head(3))\u001b[0m\u001b[0;34m\u001b[0m\u001b[0;34m\u001b[0m\u001b[0m\n",
      "\u001b[0;32m~/opt/anaconda3/lib/python3.9/site-packages/pandas/util/_decorators.py\u001b[0m in \u001b[0;36mwrapper\u001b[0;34m(*args, **kwargs)\u001b[0m\n\u001b[1;32m    309\u001b[0m                     \u001b[0mstacklevel\u001b[0m\u001b[0;34m=\u001b[0m\u001b[0mstacklevel\u001b[0m\u001b[0;34m,\u001b[0m\u001b[0;34m\u001b[0m\u001b[0;34m\u001b[0m\u001b[0m\n\u001b[1;32m    310\u001b[0m                 )\n\u001b[0;32m--> 311\u001b[0;31m             \u001b[0;32mreturn\u001b[0m \u001b[0mfunc\u001b[0m\u001b[0;34m(\u001b[0m\u001b[0;34m*\u001b[0m\u001b[0margs\u001b[0m\u001b[0;34m,\u001b[0m \u001b[0;34m**\u001b[0m\u001b[0mkwargs\u001b[0m\u001b[0;34m)\u001b[0m\u001b[0;34m\u001b[0m\u001b[0;34m\u001b[0m\u001b[0m\n\u001b[0m\u001b[1;32m    312\u001b[0m \u001b[0;34m\u001b[0m\u001b[0m\n\u001b[1;32m    313\u001b[0m         \u001b[0;32mreturn\u001b[0m \u001b[0mwrapper\u001b[0m\u001b[0;34m\u001b[0m\u001b[0;34m\u001b[0m\u001b[0m\n",
      "\u001b[0;32m~/opt/anaconda3/lib/python3.9/site-packages/pandas/io/parsers/readers.py\u001b[0m in \u001b[0;36mread_csv\u001b[0;34m(filepath_or_buffer, sep, delimiter, header, names, index_col, usecols, squeeze, prefix, mangle_dupe_cols, dtype, engine, converters, true_values, false_values, skipinitialspace, skiprows, skipfooter, nrows, na_values, keep_default_na, na_filter, verbose, skip_blank_lines, parse_dates, infer_datetime_format, keep_date_col, date_parser, dayfirst, cache_dates, iterator, chunksize, compression, thousands, decimal, lineterminator, quotechar, quoting, doublequote, escapechar, comment, encoding, encoding_errors, dialect, error_bad_lines, warn_bad_lines, on_bad_lines, delim_whitespace, low_memory, memory_map, float_precision, storage_options)\u001b[0m\n\u001b[1;32m    584\u001b[0m     \u001b[0mkwds\u001b[0m\u001b[0;34m.\u001b[0m\u001b[0mupdate\u001b[0m\u001b[0;34m(\u001b[0m\u001b[0mkwds_defaults\u001b[0m\u001b[0;34m)\u001b[0m\u001b[0;34m\u001b[0m\u001b[0;34m\u001b[0m\u001b[0m\n\u001b[1;32m    585\u001b[0m \u001b[0;34m\u001b[0m\u001b[0m\n\u001b[0;32m--> 586\u001b[0;31m     \u001b[0;32mreturn\u001b[0m \u001b[0m_read\u001b[0m\u001b[0;34m(\u001b[0m\u001b[0mfilepath_or_buffer\u001b[0m\u001b[0;34m,\u001b[0m \u001b[0mkwds\u001b[0m\u001b[0;34m)\u001b[0m\u001b[0;34m\u001b[0m\u001b[0;34m\u001b[0m\u001b[0m\n\u001b[0m\u001b[1;32m    587\u001b[0m \u001b[0;34m\u001b[0m\u001b[0m\n\u001b[1;32m    588\u001b[0m \u001b[0;34m\u001b[0m\u001b[0m\n",
      "\u001b[0;32m~/opt/anaconda3/lib/python3.9/site-packages/pandas/io/parsers/readers.py\u001b[0m in \u001b[0;36m_read\u001b[0;34m(filepath_or_buffer, kwds)\u001b[0m\n\u001b[1;32m    480\u001b[0m \u001b[0;34m\u001b[0m\u001b[0m\n\u001b[1;32m    481\u001b[0m     \u001b[0;31m# Create the parser.\u001b[0m\u001b[0;34m\u001b[0m\u001b[0;34m\u001b[0m\u001b[0m\n\u001b[0;32m--> 482\u001b[0;31m     \u001b[0mparser\u001b[0m \u001b[0;34m=\u001b[0m \u001b[0mTextFileReader\u001b[0m\u001b[0;34m(\u001b[0m\u001b[0mfilepath_or_buffer\u001b[0m\u001b[0;34m,\u001b[0m \u001b[0;34m**\u001b[0m\u001b[0mkwds\u001b[0m\u001b[0;34m)\u001b[0m\u001b[0;34m\u001b[0m\u001b[0;34m\u001b[0m\u001b[0m\n\u001b[0m\u001b[1;32m    483\u001b[0m \u001b[0;34m\u001b[0m\u001b[0m\n\u001b[1;32m    484\u001b[0m     \u001b[0;32mif\u001b[0m \u001b[0mchunksize\u001b[0m \u001b[0;32mor\u001b[0m \u001b[0miterator\u001b[0m\u001b[0;34m:\u001b[0m\u001b[0;34m\u001b[0m\u001b[0;34m\u001b[0m\u001b[0m\n",
      "\u001b[0;32m~/opt/anaconda3/lib/python3.9/site-packages/pandas/io/parsers/readers.py\u001b[0m in \u001b[0;36m__init__\u001b[0;34m(self, f, engine, **kwds)\u001b[0m\n\u001b[1;32m    809\u001b[0m             \u001b[0mself\u001b[0m\u001b[0;34m.\u001b[0m\u001b[0moptions\u001b[0m\u001b[0;34m[\u001b[0m\u001b[0;34m\"has_index_names\"\u001b[0m\u001b[0;34m]\u001b[0m \u001b[0;34m=\u001b[0m \u001b[0mkwds\u001b[0m\u001b[0;34m[\u001b[0m\u001b[0;34m\"has_index_names\"\u001b[0m\u001b[0;34m]\u001b[0m\u001b[0;34m\u001b[0m\u001b[0;34m\u001b[0m\u001b[0m\n\u001b[1;32m    810\u001b[0m \u001b[0;34m\u001b[0m\u001b[0m\n\u001b[0;32m--> 811\u001b[0;31m         \u001b[0mself\u001b[0m\u001b[0;34m.\u001b[0m\u001b[0m_engine\u001b[0m \u001b[0;34m=\u001b[0m \u001b[0mself\u001b[0m\u001b[0;34m.\u001b[0m\u001b[0m_make_engine\u001b[0m\u001b[0;34m(\u001b[0m\u001b[0mself\u001b[0m\u001b[0;34m.\u001b[0m\u001b[0mengine\u001b[0m\u001b[0;34m)\u001b[0m\u001b[0;34m\u001b[0m\u001b[0;34m\u001b[0m\u001b[0m\n\u001b[0m\u001b[1;32m    812\u001b[0m \u001b[0;34m\u001b[0m\u001b[0m\n\u001b[1;32m    813\u001b[0m     \u001b[0;32mdef\u001b[0m \u001b[0mclose\u001b[0m\u001b[0;34m(\u001b[0m\u001b[0mself\u001b[0m\u001b[0;34m)\u001b[0m\u001b[0;34m:\u001b[0m\u001b[0;34m\u001b[0m\u001b[0;34m\u001b[0m\u001b[0m\n",
      "\u001b[0;32m~/opt/anaconda3/lib/python3.9/site-packages/pandas/io/parsers/readers.py\u001b[0m in \u001b[0;36m_make_engine\u001b[0;34m(self, engine)\u001b[0m\n\u001b[1;32m   1038\u001b[0m             )\n\u001b[1;32m   1039\u001b[0m         \u001b[0;31m# error: Too many arguments for \"ParserBase\"\u001b[0m\u001b[0;34m\u001b[0m\u001b[0;34m\u001b[0m\u001b[0m\n\u001b[0;32m-> 1040\u001b[0;31m         \u001b[0;32mreturn\u001b[0m \u001b[0mmapping\u001b[0m\u001b[0;34m[\u001b[0m\u001b[0mengine\u001b[0m\u001b[0;34m]\u001b[0m\u001b[0;34m(\u001b[0m\u001b[0mself\u001b[0m\u001b[0;34m.\u001b[0m\u001b[0mf\u001b[0m\u001b[0;34m,\u001b[0m \u001b[0;34m**\u001b[0m\u001b[0mself\u001b[0m\u001b[0;34m.\u001b[0m\u001b[0moptions\u001b[0m\u001b[0;34m)\u001b[0m  \u001b[0;31m# type: ignore[call-arg]\u001b[0m\u001b[0;34m\u001b[0m\u001b[0;34m\u001b[0m\u001b[0m\n\u001b[0m\u001b[1;32m   1041\u001b[0m \u001b[0;34m\u001b[0m\u001b[0m\n\u001b[1;32m   1042\u001b[0m     \u001b[0;32mdef\u001b[0m \u001b[0m_failover_to_python\u001b[0m\u001b[0;34m(\u001b[0m\u001b[0mself\u001b[0m\u001b[0;34m)\u001b[0m\u001b[0;34m:\u001b[0m\u001b[0;34m\u001b[0m\u001b[0;34m\u001b[0m\u001b[0m\n",
      "\u001b[0;32m~/opt/anaconda3/lib/python3.9/site-packages/pandas/io/parsers/python_parser.py\u001b[0m in \u001b[0;36m__init__\u001b[0;34m(self, f, **kwds)\u001b[0m\n\u001b[1;32m     94\u001b[0m             \u001b[0mself\u001b[0m\u001b[0;34m.\u001b[0m\u001b[0mdata\u001b[0m \u001b[0;34m=\u001b[0m \u001b[0mcast\u001b[0m\u001b[0;34m(\u001b[0m\u001b[0mIterator\u001b[0m\u001b[0;34m[\u001b[0m\u001b[0mstr\u001b[0m\u001b[0;34m]\u001b[0m\u001b[0;34m,\u001b[0m \u001b[0mf\u001b[0m\u001b[0;34m)\u001b[0m\u001b[0;34m\u001b[0m\u001b[0;34m\u001b[0m\u001b[0m\n\u001b[1;32m     95\u001b[0m         \u001b[0;32melse\u001b[0m\u001b[0;34m:\u001b[0m\u001b[0;34m\u001b[0m\u001b[0;34m\u001b[0m\u001b[0m\n\u001b[0;32m---> 96\u001b[0;31m             \u001b[0mself\u001b[0m\u001b[0;34m.\u001b[0m\u001b[0m_open_handles\u001b[0m\u001b[0;34m(\u001b[0m\u001b[0mf\u001b[0m\u001b[0;34m,\u001b[0m \u001b[0mkwds\u001b[0m\u001b[0;34m)\u001b[0m\u001b[0;34m\u001b[0m\u001b[0;34m\u001b[0m\u001b[0m\n\u001b[0m\u001b[1;32m     97\u001b[0m             \u001b[0;32massert\u001b[0m \u001b[0mself\u001b[0m\u001b[0;34m.\u001b[0m\u001b[0mhandles\u001b[0m \u001b[0;32mis\u001b[0m \u001b[0;32mnot\u001b[0m \u001b[0;32mNone\u001b[0m\u001b[0;34m\u001b[0m\u001b[0;34m\u001b[0m\u001b[0m\n\u001b[1;32m     98\u001b[0m             \u001b[0;32massert\u001b[0m \u001b[0mhasattr\u001b[0m\u001b[0;34m(\u001b[0m\u001b[0mself\u001b[0m\u001b[0;34m.\u001b[0m\u001b[0mhandles\u001b[0m\u001b[0;34m.\u001b[0m\u001b[0mhandle\u001b[0m\u001b[0;34m,\u001b[0m \u001b[0;34m\"readline\"\u001b[0m\u001b[0;34m)\u001b[0m\u001b[0;34m\u001b[0m\u001b[0;34m\u001b[0m\u001b[0m\n",
      "\u001b[0;32m~/opt/anaconda3/lib/python3.9/site-packages/pandas/io/parsers/base_parser.py\u001b[0m in \u001b[0;36m_open_handles\u001b[0;34m(self, src, kwds)\u001b[0m\n\u001b[1;32m    220\u001b[0m         \u001b[0mLet\u001b[0m \u001b[0mthe\u001b[0m \u001b[0mreaders\u001b[0m \u001b[0mopen\u001b[0m \u001b[0mIOHandles\u001b[0m \u001b[0mafter\u001b[0m \u001b[0mthey\u001b[0m \u001b[0mare\u001b[0m \u001b[0mdone\u001b[0m \u001b[0;32mwith\u001b[0m \u001b[0mtheir\u001b[0m \u001b[0mpotential\u001b[0m \u001b[0mraises\u001b[0m\u001b[0;34m.\u001b[0m\u001b[0;34m\u001b[0m\u001b[0;34m\u001b[0m\u001b[0m\n\u001b[1;32m    221\u001b[0m         \"\"\"\n\u001b[0;32m--> 222\u001b[0;31m         self.handles = get_handle(\n\u001b[0m\u001b[1;32m    223\u001b[0m             \u001b[0msrc\u001b[0m\u001b[0;34m,\u001b[0m\u001b[0;34m\u001b[0m\u001b[0;34m\u001b[0m\u001b[0m\n\u001b[1;32m    224\u001b[0m             \u001b[0;34m\"r\"\u001b[0m\u001b[0;34m,\u001b[0m\u001b[0;34m\u001b[0m\u001b[0;34m\u001b[0m\u001b[0m\n",
      "\u001b[0;32m~/opt/anaconda3/lib/python3.9/site-packages/pandas/io/common.py\u001b[0m in \u001b[0;36mget_handle\u001b[0;34m(path_or_buf, mode, encoding, compression, memory_map, is_text, errors, storage_options)\u001b[0m\n\u001b[1;32m    700\u001b[0m         \u001b[0;32mif\u001b[0m \u001b[0mioargs\u001b[0m\u001b[0;34m.\u001b[0m\u001b[0mencoding\u001b[0m \u001b[0;32mand\u001b[0m \u001b[0;34m\"b\"\u001b[0m \u001b[0;32mnot\u001b[0m \u001b[0;32min\u001b[0m \u001b[0mioargs\u001b[0m\u001b[0;34m.\u001b[0m\u001b[0mmode\u001b[0m\u001b[0;34m:\u001b[0m\u001b[0;34m\u001b[0m\u001b[0;34m\u001b[0m\u001b[0m\n\u001b[1;32m    701\u001b[0m             \u001b[0;31m# Encoding\u001b[0m\u001b[0;34m\u001b[0m\u001b[0;34m\u001b[0m\u001b[0m\n\u001b[0;32m--> 702\u001b[0;31m             handle = open(\n\u001b[0m\u001b[1;32m    703\u001b[0m                 \u001b[0mhandle\u001b[0m\u001b[0;34m,\u001b[0m\u001b[0;34m\u001b[0m\u001b[0;34m\u001b[0m\u001b[0m\n\u001b[1;32m    704\u001b[0m                 \u001b[0mioargs\u001b[0m\u001b[0;34m.\u001b[0m\u001b[0mmode\u001b[0m\u001b[0;34m,\u001b[0m\u001b[0;34m\u001b[0m\u001b[0;34m\u001b[0m\u001b[0m\n",
      "\u001b[0;31mFileNotFoundError\u001b[0m: [Errno 2] No such file or directory: '/Users/blink/Documents/CompChem/Exercises/temp/stride.txt'"
     ]
    }
   ],
   "source": [
    "df = pd.read_csv(stride_file, header = None, sep = r\"\\s+|_\", engine = \"python\") \n",
    "df_r = pd.read_csv(stride_r_file, header = None, sep = r\"\\s+|_\", engine = \"python\") \n",
    "display(df.head(3))\n",
    "#display(df_r.head(3))"
   ]
  },
  {
   "cell_type": "code",
   "execution_count": 4,
   "id": "aa1fb4c2",
   "metadata": {},
   "outputs": [
    {
     "name": "stdout",
     "output_type": "stream",
     "text": [
      "    stride\n",
      "0  0.00000\n",
      "1  0.09998\n",
      "2  0.19997\n",
      "3  0.29996\n",
      "4  0.39994\n"
     ]
    },
    {
     "name": "stderr",
     "output_type": "stream",
     "text": [
      "/var/folders/3h/d_p2gtjd78g8c7m6c14chsg00000gq/T/ipykernel_15200/650307833.py:3: FutureWarning: The frame.append method is deprecated and will be removed from pandas in a future version. Use pandas.concat instead.\n",
      "  stride_all = stride.append(stride_r)  # add reverse data at end of\n",
      "/var/folders/3h/d_p2gtjd78g8c7m6c14chsg00000gq/T/ipykernel_15200/650307833.py:8: FutureWarning: The frame.append method is deprecated and will be removed from pandas in a future version. Use pandas.concat instead.\n",
      "  stride_all = stride_zero.append(stride_all)  # The zero point is appended to top of dataframe\n"
     ]
    }
   ],
   "source": [
    "stride = df[:][[5]]               # forward progress \n",
    "stride_r = df_r[:][[5]] * (-1)    # reverse the progress for reverse IRC\n",
    "stride_all = stride.append(stride_r)  # add reverse data at end of \n",
    "stride_all = stride_all.rename({5:\"stride\"}, axis='columns')\n",
    "\n",
    "stride_zero = pd.DataFrame({0.000}, columns = [\"stride\"])  # make a single-entry dataframe for zero\n",
    "\n",
    "stride_all = stride_zero.append(stride_all)  # The zero point is appended to top of dataframe\n",
    "stride_all.reset_index(drop=True, inplace=True) # reorder the index numbers\n",
    "print(stride_all.head())"
   ]
  },
  {
   "cell_type": "markdown",
   "id": "c0158c29",
   "metadata": {},
   "source": [
    "### Rinse and Repeat\n",
    "\n",
    "We will **repeat** this for the energy files, adding the transition state energy to the top as above."
   ]
  },
  {
   "cell_type": "code",
   "execution_count": 5,
   "id": "e8a61b53",
   "metadata": {},
   "outputs": [],
   "source": [
    "df = pd.read_csv(energy_file, header = None, sep = r\"\\s+|_\", engine = \"python\") \n",
    "df_r = pd.read_csv(energy_r_file, header = None, sep = r\"\\s+|_\", engine = \"python\") \n",
    "#display(df.head(3))\n",
    "#display(df_r.head(3))"
   ]
  },
  {
   "cell_type": "code",
   "execution_count": 6,
   "id": "99abfd55",
   "metadata": {},
   "outputs": [
    {
     "name": "stderr",
     "output_type": "stream",
     "text": [
      "/var/folders/3h/d_p2gtjd78g8c7m6c14chsg00000gq/T/ipykernel_15200/2253062382.py:3: FutureWarning: The frame.append method is deprecated and will be removed from pandas in a future version. Use pandas.concat instead.\n",
      "  energy_all = energy.append(energy_r)  # append the reverse list under the orward list\n",
      "/var/folders/3h/d_p2gtjd78g8c7m6c14chsg00000gq/T/ipykernel_15200/2253062382.py:8: FutureWarning: The frame.append method is deprecated and will be removed from pandas in a future version. Use pandas.concat instead.\n",
      "  energy_all = energy_zero.append(energy_all)\n"
     ]
    }
   ],
   "source": [
    "energy = df[:][[3]]       # the forward energy list\n",
    "energy_r = df_r[:][[3]]   # the reverse energy list\n",
    "energy_all = energy.append(energy_r)  # append the reverse list under the orward list\n",
    "energy_all = energy_all.rename({3:\"energy\"}, axis='columns')\n",
    "\n",
    "energy_zero = pd.DataFrame({TS_energy}, columns = [\"energy\"])\n",
    "\n",
    "energy_all = energy_zero.append(energy_all)\n",
    "energy_all.reset_index(drop=True, inplace=True)\n",
    "\n",
    "max_energy = energy_all[:][\"energy\"].max()    # Find maximum energy in the list\n",
    "energy_all[\"E(kJ/mole)\"]=((energy_all - max_energy)*2625.5)   # subtract it to get relative energies\n",
    "\n",
    "#print(energy_all)"
   ]
  },
  {
   "cell_type": "markdown",
   "id": "ffc98ec2",
   "metadata": {},
   "source": [
    "### More Cleaning\n",
    "\n",
    "Again this was repeated with the C-Cl bond length files. **Here** the zero position in included so it was **removed** from the reverse dataframe before it being appended to the end of the forward dataframe. The zero data point is kept at the top of the other dataframes so this will workout. The procedure will be **repeated** again for the second set of files."
   ]
  },
  {
   "cell_type": "code",
   "execution_count": 7,
   "id": "b3e38327",
   "metadata": {},
   "outputs": [],
   "source": [
    "df = pd.read_csv(C_Cl_1_3_file, header = None, sep = r\"\\s+|_\", engine = \"python\") \n",
    "df_r = pd.read_csv(C_Cl_1_3_r_file, header = None, sep = r\"\\s+|_\", engine = \"python\") \n",
    "df_r=df_r.drop(index=[0], axis=\"index\")     # drop the transition state distance from the reverse list\n",
    "\n",
    "#display(df.head())\n",
    "#display(df_r.head(3))"
   ]
  },
  {
   "cell_type": "code",
   "execution_count": 8,
   "id": "bf55bf46",
   "metadata": {},
   "outputs": [
    {
     "name": "stderr",
     "output_type": "stream",
     "text": [
      "/var/folders/3h/d_p2gtjd78g8c7m6c14chsg00000gq/T/ipykernel_15200/4261056779.py:3: FutureWarning: The frame.append method is deprecated and will be removed from pandas in a future version. Use pandas.concat instead.\n",
      "  CCl1_all = CCl1.append(CCl1_r)  #\n"
     ]
    }
   ],
   "source": [
    "CCl1 = df[:][[5]]       # the forward C-C1 (1,3) distances\n",
    "CCl1_r = df_r[:][[5]]   # the forward C-C1 (1,3) distances\n",
    "CCl1_all = CCl1.append(CCl1_r)  #\n",
    "CCl1_all = CCl1_all.rename({5:\"C-Cl1\"}, axis='columns')\n",
    "\n",
    "CCl1_all.reset_index(drop=True, inplace=True)\n",
    "#print(CCl1_all)"
   ]
  },
  {
   "cell_type": "code",
   "execution_count": 9,
   "id": "4fb12525",
   "metadata": {},
   "outputs": [],
   "source": [
    "df = pd.read_csv(C_Cl_2_3_file, header = None, sep = r\"\\s+|_\", engine = \"python\") \n",
    "df_r = pd.read_csv(C_Cl_2_3_r_file, header = None, sep = r\"\\s+|_\", engine = \"python\") \n",
    "df_r=df_r.drop(index=[0], axis=\"index\")   # drop the transition state distance from the reverse list\n",
    "\n",
    "#display(df.head(3))\n",
    "#display(df_r.head(3))"
   ]
  },
  {
   "cell_type": "code",
   "execution_count": 10,
   "id": "99387780",
   "metadata": {},
   "outputs": [
    {
     "name": "stderr",
     "output_type": "stream",
     "text": [
      "/var/folders/3h/d_p2gtjd78g8c7m6c14chsg00000gq/T/ipykernel_15200/2091093923.py:4: FutureWarning: The frame.append method is deprecated and will be removed from pandas in a future version. Use pandas.concat instead.\n",
      "  CCl2_all = CCl2.append(CCl2_r)\n"
     ]
    }
   ],
   "source": [
    "import numpy as np\n",
    "CCl2 = df[:][[5]]\n",
    "CCl2_r = df_r[:][[5]]   # reverse the progress for reverse IRC\n",
    "CCl2_all = CCl2.append(CCl2_r)\n",
    "CCl2_all = CCl2_all.rename({5:\"C-Cl2\"}, axis='columns')\n",
    "\n",
    "CCl2_all.reset_index(drop=True, inplace=True)\n",
    "#print(CCl2_all)"
   ]
  },
  {
   "cell_type": "markdown",
   "id": "35fdc71f",
   "metadata": {},
   "source": [
    "### Documentation is Important\n",
    "\n",
    "Take note of the **descriptions** for how I **converted** the text data files into dataframes and then **processed** them to create the individual dataframes for each type of **data**. This **documentation** is not a waste of time. Next week, I will have no memory of what I did. I will be able to **follow** my own work and trouble shoot any errors because of this documentation. Most importantly, others will be able to recognize my genius or **correct** my mistakes\n",
    "\n",
    "## Collate and Write Data Table\n",
    "\n",
    "We have **various lists** of corresponding values **extracted** from the log files. Now we will **join** the Dataframes containing each list to make a **data table**.  It is important that the `pd.reset_index()` method be applied to each list so that all have the **same** series of **index values**. The `pd.join()` method will align data acording to the index value. "
   ]
  },
  {
   "cell_type": "code",
   "execution_count": 11,
   "id": "ae3ef272",
   "metadata": {},
   "outputs": [
    {
     "data": {
      "text/html": [
       "<div>\n",
       "<style scoped>\n",
       "    .dataframe tbody tr th:only-of-type {\n",
       "        vertical-align: middle;\n",
       "    }\n",
       "\n",
       "    .dataframe tbody tr th {\n",
       "        vertical-align: top;\n",
       "    }\n",
       "\n",
       "    .dataframe thead th {\n",
       "        text-align: right;\n",
       "    }\n",
       "</style>\n",
       "<table border=\"1\" class=\"dataframe\">\n",
       "  <thead>\n",
       "    <tr style=\"text-align: right;\">\n",
       "      <th></th>\n",
       "      <th>stride</th>\n",
       "      <th>energy</th>\n",
       "      <th>E(kJ/mole)</th>\n",
       "      <th>C-Cl1</th>\n",
       "      <th>C-Cl2</th>\n",
       "    </tr>\n",
       "  </thead>\n",
       "  <tbody>\n",
       "    <tr>\n",
       "      <th>0</th>\n",
       "      <td>-2.23195</td>\n",
       "      <td>-955.610457</td>\n",
       "      <td>-3.717911</td>\n",
       "      <td>2.093683</td>\n",
       "      <td>2.741895</td>\n",
       "    </tr>\n",
       "    <tr>\n",
       "      <th>1</th>\n",
       "      <td>-2.18819</td>\n",
       "      <td>-955.610456</td>\n",
       "      <td>-3.717124</td>\n",
       "      <td>2.092207</td>\n",
       "      <td>2.747936</td>\n",
       "    </tr>\n",
       "    <tr>\n",
       "      <th>2</th>\n",
       "      <td>-2.09775</td>\n",
       "      <td>-955.610455</td>\n",
       "      <td>-3.713448</td>\n",
       "      <td>2.095404</td>\n",
       "      <td>2.735233</td>\n",
       "    </tr>\n",
       "    <tr>\n",
       "      <th>3</th>\n",
       "      <td>-1.99792</td>\n",
       "      <td>-955.610444</td>\n",
       "      <td>-3.684830</td>\n",
       "      <td>2.099408</td>\n",
       "      <td>2.720882</td>\n",
       "    </tr>\n",
       "    <tr>\n",
       "      <th>4</th>\n",
       "      <td>-1.89818</td>\n",
       "      <td>-955.610423</td>\n",
       "      <td>-3.628907</td>\n",
       "      <td>2.104742</td>\n",
       "      <td>2.705797</td>\n",
       "    </tr>\n",
       "  </tbody>\n",
       "</table>\n",
       "</div>"
      ],
      "text/plain": [
       "    stride      energy  E(kJ/mole)     C-Cl1     C-Cl2\n",
       "0 -2.23195 -955.610457   -3.717911  2.093683  2.741895\n",
       "1 -2.18819 -955.610456   -3.717124  2.092207  2.747936\n",
       "2 -2.09775 -955.610455   -3.713448  2.095404  2.735233\n",
       "3 -1.99792 -955.610444   -3.684830  2.099408  2.720882\n",
       "4 -1.89818 -955.610423   -3.628907  2.104742  2.705797"
      ]
     },
     "metadata": {},
     "output_type": "display_data"
    }
   ],
   "source": [
    "data=stride_all.join([energy_all,CCl1_all,CCl2_all]) # Join all the lists together\n",
    "\n",
    "data=data.sort_values(by=['stride'])        # sort the table by \"stride\" values\n",
    "data.reset_index(drop=True, inplace=True)   # reset the index values\n",
    "display(data.head())"
   ]
  },
  {
   "cell_type": "markdown",
   "id": "c569974a",
   "metadata": {},
   "source": [
    "### Writing Data Files\n",
    "\n",
    "Now that we have a set of processed data we should **write it out** so that we can **use it again** and again without having to repeat this whole processing procedure. You will be writing two files in the end. After processing the solvent IRC data we will write the **file** \"`SN2_IRC_Solvent_Data.txt`\". then you will be **repeating** this whole shebang using the gas phase data extracts and, when you **return here**, we will write the file \"`SN2_IRC_Data_GasPhase_Data.txt`\"."
   ]
  },
  {
   "cell_type": "code",
   "execution_count": 12,
   "id": "08881e06",
   "metadata": {},
   "outputs": [],
   "source": [
    "#writefilename = \"SN2_IRC_Solvent_Data.txt\"\n",
    "#writefilename = \"SN2_IRC_Data_GasPhase_Data.txt\"\n",
    "writefilename = \"temp.txt\"   # placeholder name. Use one of the names above.\n",
    "\n",
    "data.to_csv(path+writefilename)"
   ]
  },
  {
   "cell_type": "markdown",
   "id": "de29c524",
   "metadata": {},
   "source": [
    "## Do It All Again\n",
    "\n",
    "**Execute** the code block below and **then go back** to the top of this notebook and execute all the data cleaning and processing code **again**. You will now have a table of the gas phase data and will save it with the indicated filename. These *Jupyter* notebooks are meant to be **used and re-used** and copied and pasted."
   ]
  },
  {
   "cell_type": "code",
   "execution_count": 2,
   "id": "4512ed49",
   "metadata": {},
   "outputs": [],
   "source": [
    "path = \"/Users/blink/Documents/CompChem/Exercises/temp/\"\n",
    "\n",
    "stride_file = path + \"gstride.txt\"\n",
    "stride_r_file = path + \"gstride_r.txt\"\n",
    "energy_file = path + \"genergy.txt\"\n",
    "energy_r_file = path + \"genergy_r.txt\"\n",
    "C_Cl_1_3_file = path + \"gC-Cl-1-3.txt\"\n",
    "C_Cl_1_3_r_file = path + \"gC-Cl-1-3_r.txt\"\n",
    "C_Cl_2_3_file = path + \"gC-Cl-2-3.txt\"\n",
    "C_Cl_2_3_r_file = path + \"gC-Cl-2-3_r.txt\"\n",
    "TS_energy = -955.6090406225"
   ]
  },
  {
   "cell_type": "markdown",
   "id": "f26a4fa7",
   "metadata": {},
   "source": [
    "## Your Ready to Plot\n",
    "\n",
    "We now have the **two data tables saved** as text files. We will use them in the [next notebook](10_Solvent_IRC_Plots-Data.ipynb) where we will plot the data and see if there is a **difference** between the solvent and gas-phase calculations.\n",
    "\n",
    "## Plots\n",
    "Below are some **quick** plots of various value pairs. They confirm that my data processing did not cause any disasterous misalignments of data series. They were just used for **diagnostic** purposes (I found some really big mistakes that showed up as crazy zig-zag plots before I figure all this out).\n",
    "\n",
    "I am leaving them here for your information. Please **proceed** to the next notebook to compare the data sets."
   ]
  },
  {
   "cell_type": "code",
   "execution_count": 160,
   "id": "57e2bbc6",
   "metadata": {},
   "outputs": [
    {
     "data": {
      "image/png": "[encoded data removed]",
      "text/plain": [
       "<Figure size 432x288 with 1 Axes>"
      ]
     },
     "metadata": {
      "filenames": {
       "image/png": "/Users/Barry/Documents/GitHub/UsingGAMESS/_build/jupyter_execute/10_Solvent_IRC_Plots_23_0.png"
      },
      "needs_background": "light"
     },
     "output_type": "display_data"
    }
   ],
   "source": [
    "import matplotlib.pyplot as plt\n",
    "x = data[:][\"stride\"]           # stride value\n",
    "y = data[:][\"E(kJ/mole)\"]       # relative energy\n",
    "\n",
    "plt.plot(x,y, \"k-\")\n",
    "plt.show()"
   ]
  },
  {
   "cell_type": "code",
   "execution_count": 161,
   "id": "af94a68e",
   "metadata": {},
   "outputs": [
    {
     "data": {
      "image/png": "[encoded data removed]",
      "text/plain": [
       "<Figure size 432x288 with 1 Axes>"
      ]
     },
     "metadata": {
      "filenames": {
       "image/png": "/Users/Barry/Documents/GitHub/UsingGAMESS/_build/jupyter_execute/10_Solvent_IRC_Plots_24_0.png"
      },
      "needs_background": "light"
     },
     "output_type": "display_data"
    }
   ],
   "source": [
    "x = data[:][\"C-Cl1\"]        # 1,3 bond distance\n",
    "y = data[:][\"C-Cl2\"]        # 2,3 bond distance\n",
    "\n",
    "plt.plot(x,y, \"k-\")\n",
    "plt.show()"
   ]
  },
  {
   "cell_type": "code",
   "execution_count": 162,
   "id": "37158b6f",
   "metadata": {},
   "outputs": [
    {
     "data": {
      "image/png": "[encoded data removed]",
      "text/plain": [
       "<Figure size 432x288 with 1 Axes>"
      ]
     },
     "metadata": {
      "filenames": {
       "image/png": "/Users/Barry/Documents/GitHub/UsingGAMESS/_build/jupyter_execute/10_Solvent_IRC_Plots_25_0.png"
      },
      "needs_background": "light"
     },
     "output_type": "display_data"
    }
   ],
   "source": [
    "x = data[:][\"C-Cl2\"]            # 2,3 bond distance\n",
    "y = data[:][\"E(kJ/mole)\"]       # relative energy\n",
    "\n",
    "plt.plot(x,y, \"k-\")\n",
    "plt.show()"
   ]
  },
  {
   "cell_type": "code",
   "execution_count": 163,
   "id": "336cd0fe",
   "metadata": {},
   "outputs": [
    {
     "data": {
      "image/png": "[encoded data removed]",
      "text/plain": [
       "<Figure size 432x288 with 1 Axes>"
      ]
     },
     "metadata": {
      "filenames": {
       "image/png": "/Users/Barry/Documents/GitHub/UsingGAMESS/_build/jupyter_execute/10_Solvent_IRC_Plots_26_0.png"
      },
      "needs_background": "light"
     },
     "output_type": "display_data"
    }
   ],
   "source": [
    "x = data.index             # step number\n",
    "y = data[:][\"C-Cl1\"]       # 1,3 bond distance\n",
    "\n",
    "plt.plot(x,y, \"k-\")\n",
    "plt.show()"
   ]
  }
 ],
 "metadata": {
  "interpreter": {
   "hash": "31f2aee4e71d21fbe5cf8b01ff0e069b9275f58929596ceb00d14d90e3e16cd6"
  },
  "kernelspec": {
   "display_name": "Python 3 (ipykernel)",
   "language": "python",
   "name": "python3"
  },
  "language_info": {
   "codemirror_mode": {
    "name": "ipython",
    "version": 3
   },
   "file_extension": ".py",
   "mimetype": "text/x-python",
   "name": "python",
   "nbconvert_exporter": "python",
   "pygments_lexer": "ipython3",
   "version": "3.9.7"
  }
 },
 "nbformat": 4,
 "nbformat_minor": 5
}